{
 "cells": [
  {
   "cell_type": "code",
   "execution_count": 2,
   "id": "initial_id",
   "metadata": {
    "collapsed": true,
    "ExecuteTime": {
     "end_time": "2024-07-21T12:33:46.815343Z",
     "start_time": "2024-07-21T12:33:46.811312Z"
    }
   },
   "outputs": [],
   "source": [
    "import pandas as pd\n",
    "import openpyxl"
   ]
  },
  {
   "cell_type": "code",
   "outputs": [],
   "source": [
    "year_2021 = pd.read_excel('./dados.xlsx', sheet_name='2021')\n",
    "copy_year_2021 = year_2021.copy()"
   ],
   "metadata": {
    "collapsed": false,
    "ExecuteTime": {
     "end_time": "2024-07-21T15:34:56.019801Z",
     "start_time": "2024-07-21T15:34:54.963910Z"
    }
   },
   "id": "45007e0cedcb210a",
   "execution_count": 80
  },
  {
   "cell_type": "code",
   "outputs": [
    {
     "data": {
      "text/plain": "             DATA ENTRADA                                            ENTRADA  \\\n0     01/2/2021 - Segunda                                                ---   \n1       02/2/2021 - Terça                                                ---   \n2      03/2/2021 - Quarta                                           00:00:00   \n3           JUSTIFICATIVA  14-02-2021 19:52:01 NÃO ESTAVA COM DIGITAL CAD...   \n4      04/2/2021 - Quinta                                                ---   \n..                    ...                                                ...   \n389  27/12/2021 - Segunda                                           06:35:00   \n390    28/12/2021 - Terça                                                ---   \n391   29/12/2021 - Quarta                                                ---   \n392   30/12/2021 - Quinta                                           18:30:00   \n393    31/12/2021 - Sexta                                                ---   \n\n               DATA SAÍDA     SAÍDA TRABALHADA HORA JUSTIFICADA    STATUS  \\\n0     01/2/2021 - Segunda       ---        ---              ---       ---   \n1       02/2/2021 - Terça       ---        ---              ---       ---   \n2     03/02/2021 - Quarta  00:00:00        ---         12:00:00  APROVADO   \n3                     NaN       NaN        NaN              NaN       NaN   \n4      04/2/2021 - Quinta       ---        ---              ---       ---   \n..                    ...       ...        ...              ...       ...   \n389  27/12/2021 - Segunda  18:41:00   12:06:00              ---       ---   \n390    28/12/2021 - Terça       ---        ---              ---       ---   \n391   29/12/2021 - Quarta       ---        ---              ---       ---   \n392    31/12/2021 - Sexta  05:48:00   11:18:00              ---       ---   \n393    31/12/2021 - Sexta       ---        ---              ---       ---   \n\n    EDITAR  \n0      ---  \n1      ---  \n2      Ver  \n3      NaN  \n4      ---  \n..     ...  \n389    ---  \n390    ---  \n391    ---  \n392    ---  \n393    ---  \n\n[394 rows x 8 columns]",
      "text/html": "<div>\n<style scoped>\n    .dataframe tbody tr th:only-of-type {\n        vertical-align: middle;\n    }\n\n    .dataframe tbody tr th {\n        vertical-align: top;\n    }\n\n    .dataframe thead th {\n        text-align: right;\n    }\n</style>\n<table border=\"1\" class=\"dataframe\">\n  <thead>\n    <tr style=\"text-align: right;\">\n      <th></th>\n      <th>DATA ENTRADA</th>\n      <th>ENTRADA</th>\n      <th>DATA SAÍDA</th>\n      <th>SAÍDA</th>\n      <th>TRABALHADA</th>\n      <th>HORA JUSTIFICADA</th>\n      <th>STATUS</th>\n      <th>EDITAR</th>\n    </tr>\n  </thead>\n  <tbody>\n    <tr>\n      <th>0</th>\n      <td>01/2/2021 - Segunda</td>\n      <td>---</td>\n      <td>01/2/2021 - Segunda</td>\n      <td>---</td>\n      <td>---</td>\n      <td>---</td>\n      <td>---</td>\n      <td>---</td>\n    </tr>\n    <tr>\n      <th>1</th>\n      <td>02/2/2021 - Terça</td>\n      <td>---</td>\n      <td>02/2/2021 - Terça</td>\n      <td>---</td>\n      <td>---</td>\n      <td>---</td>\n      <td>---</td>\n      <td>---</td>\n    </tr>\n    <tr>\n      <th>2</th>\n      <td>03/2/2021 - Quarta</td>\n      <td>00:00:00</td>\n      <td>03/02/2021 - Quarta</td>\n      <td>00:00:00</td>\n      <td>---</td>\n      <td>12:00:00</td>\n      <td>APROVADO</td>\n      <td>Ver</td>\n    </tr>\n    <tr>\n      <th>3</th>\n      <td>JUSTIFICATIVA</td>\n      <td>14-02-2021 19:52:01 NÃO ESTAVA COM DIGITAL CAD...</td>\n      <td>NaN</td>\n      <td>NaN</td>\n      <td>NaN</td>\n      <td>NaN</td>\n      <td>NaN</td>\n      <td>NaN</td>\n    </tr>\n    <tr>\n      <th>4</th>\n      <td>04/2/2021 - Quinta</td>\n      <td>---</td>\n      <td>04/2/2021 - Quinta</td>\n      <td>---</td>\n      <td>---</td>\n      <td>---</td>\n      <td>---</td>\n      <td>---</td>\n    </tr>\n    <tr>\n      <th>...</th>\n      <td>...</td>\n      <td>...</td>\n      <td>...</td>\n      <td>...</td>\n      <td>...</td>\n      <td>...</td>\n      <td>...</td>\n      <td>...</td>\n    </tr>\n    <tr>\n      <th>389</th>\n      <td>27/12/2021 - Segunda</td>\n      <td>06:35:00</td>\n      <td>27/12/2021 - Segunda</td>\n      <td>18:41:00</td>\n      <td>12:06:00</td>\n      <td>---</td>\n      <td>---</td>\n      <td>---</td>\n    </tr>\n    <tr>\n      <th>390</th>\n      <td>28/12/2021 - Terça</td>\n      <td>---</td>\n      <td>28/12/2021 - Terça</td>\n      <td>---</td>\n      <td>---</td>\n      <td>---</td>\n      <td>---</td>\n      <td>---</td>\n    </tr>\n    <tr>\n      <th>391</th>\n      <td>29/12/2021 - Quarta</td>\n      <td>---</td>\n      <td>29/12/2021 - Quarta</td>\n      <td>---</td>\n      <td>---</td>\n      <td>---</td>\n      <td>---</td>\n      <td>---</td>\n    </tr>\n    <tr>\n      <th>392</th>\n      <td>30/12/2021 - Quinta</td>\n      <td>18:30:00</td>\n      <td>31/12/2021 - Sexta</td>\n      <td>05:48:00</td>\n      <td>11:18:00</td>\n      <td>---</td>\n      <td>---</td>\n      <td>---</td>\n    </tr>\n    <tr>\n      <th>393</th>\n      <td>31/12/2021 - Sexta</td>\n      <td>---</td>\n      <td>31/12/2021 - Sexta</td>\n      <td>---</td>\n      <td>---</td>\n      <td>---</td>\n      <td>---</td>\n      <td>---</td>\n    </tr>\n  </tbody>\n</table>\n<p>394 rows × 8 columns</p>\n</div>"
     },
     "execution_count": 81,
     "metadata": {},
     "output_type": "execute_result"
    }
   ],
   "source": [
    "copy_year_2021"
   ],
   "metadata": {
    "collapsed": false,
    "ExecuteTime": {
     "end_time": "2024-07-21T15:35:07.299412Z",
     "start_time": "2024-07-21T15:35:07.288592Z"
    }
   },
   "id": "8827a3abbf25e19a",
   "execution_count": 81
  },
  {
   "cell_type": "code",
   "outputs": [],
   "source": [
    "copy_year_2021['DATA SAÍDA'].fillna('---', inplace=True)"
   ],
   "metadata": {
    "collapsed": false,
    "ExecuteTime": {
     "end_time": "2024-07-21T15:44:59.683614Z",
     "start_time": "2024-07-21T15:44:59.678782Z"
    }
   },
   "id": "3a79c0c0c47bf37f",
   "execution_count": 88
  },
  {
   "cell_type": "code",
   "outputs": [],
   "source": [
    "copy_year_2021.fillna({'TRABALHADA': '---'}, inplace=True)\n",
    "copy_year_2021.fillna({'HORA JUSTIFICADA': '---', 'STATUS': '---'}, inplace=True)"
   ],
   "metadata": {
    "collapsed": false,
    "ExecuteTime": {
     "end_time": "2024-07-21T16:26:59.491834Z",
     "start_time": "2024-07-21T16:26:59.485331Z"
    }
   },
   "id": "1eef5ef6e95aa5a5",
   "execution_count": 96
  },
  {
   "cell_type": "code",
   "outputs": [
    {
     "data": {
      "text/plain": "             DATA ENTRADA                                            ENTRADA  \\\n0     01/2/2021 - Segunda                                                ---   \n1       02/2/2021 - Terça                                                ---   \n2      03/2/2021 - Quarta                                           00:00:00   \n3           JUSTIFICATIVA  14-02-2021 19:52:01 NÃO ESTAVA COM DIGITAL CAD...   \n4      04/2/2021 - Quinta                                                ---   \n..                    ...                                                ...   \n389  27/12/2021 - Segunda                                           06:35:00   \n390    28/12/2021 - Terça                                                ---   \n391   29/12/2021 - Quarta                                                ---   \n392   30/12/2021 - Quinta                                           18:30:00   \n393    31/12/2021 - Sexta                                                ---   \n\n               DATA SAÍDA     SAÍDA TRABALHADA HORA JUSTIFICADA    STATUS  \\\n0     01/2/2021 - Segunda       ---        ---              ---       ---   \n1       02/2/2021 - Terça       ---        ---              ---       ---   \n2     03/02/2021 - Quarta  00:00:00        ---         12:00:00  APROVADO   \n3                     ---       ---        ---              ---       ---   \n4      04/2/2021 - Quinta       ---        ---              ---       ---   \n..                    ...       ...        ...              ...       ...   \n389  27/12/2021 - Segunda  18:41:00   12:06:00              ---       ---   \n390    28/12/2021 - Terça       ---        ---              ---       ---   \n391   29/12/2021 - Quarta       ---        ---              ---       ---   \n392    31/12/2021 - Sexta  05:48:00   11:18:00              ---       ---   \n393    31/12/2021 - Sexta       ---        ---              ---       ---   \n\n    EDITAR  \n0      ---  \n1      ---  \n2      Ver  \n3      NaN  \n4      ---  \n..     ...  \n389    ---  \n390    ---  \n391    ---  \n392    ---  \n393    ---  \n\n[394 rows x 8 columns]",
      "text/html": "<div>\n<style scoped>\n    .dataframe tbody tr th:only-of-type {\n        vertical-align: middle;\n    }\n\n    .dataframe tbody tr th {\n        vertical-align: top;\n    }\n\n    .dataframe thead th {\n        text-align: right;\n    }\n</style>\n<table border=\"1\" class=\"dataframe\">\n  <thead>\n    <tr style=\"text-align: right;\">\n      <th></th>\n      <th>DATA ENTRADA</th>\n      <th>ENTRADA</th>\n      <th>DATA SAÍDA</th>\n      <th>SAÍDA</th>\n      <th>TRABALHADA</th>\n      <th>HORA JUSTIFICADA</th>\n      <th>STATUS</th>\n      <th>EDITAR</th>\n    </tr>\n  </thead>\n  <tbody>\n    <tr>\n      <th>0</th>\n      <td>01/2/2021 - Segunda</td>\n      <td>---</td>\n      <td>01/2/2021 - Segunda</td>\n      <td>---</td>\n      <td>---</td>\n      <td>---</td>\n      <td>---</td>\n      <td>---</td>\n    </tr>\n    <tr>\n      <th>1</th>\n      <td>02/2/2021 - Terça</td>\n      <td>---</td>\n      <td>02/2/2021 - Terça</td>\n      <td>---</td>\n      <td>---</td>\n      <td>---</td>\n      <td>---</td>\n      <td>---</td>\n    </tr>\n    <tr>\n      <th>2</th>\n      <td>03/2/2021 - Quarta</td>\n      <td>00:00:00</td>\n      <td>03/02/2021 - Quarta</td>\n      <td>00:00:00</td>\n      <td>---</td>\n      <td>12:00:00</td>\n      <td>APROVADO</td>\n      <td>Ver</td>\n    </tr>\n    <tr>\n      <th>3</th>\n      <td>JUSTIFICATIVA</td>\n      <td>14-02-2021 19:52:01 NÃO ESTAVA COM DIGITAL CAD...</td>\n      <td>---</td>\n      <td>---</td>\n      <td>---</td>\n      <td>---</td>\n      <td>---</td>\n      <td>NaN</td>\n    </tr>\n    <tr>\n      <th>4</th>\n      <td>04/2/2021 - Quinta</td>\n      <td>---</td>\n      <td>04/2/2021 - Quinta</td>\n      <td>---</td>\n      <td>---</td>\n      <td>---</td>\n      <td>---</td>\n      <td>---</td>\n    </tr>\n    <tr>\n      <th>...</th>\n      <td>...</td>\n      <td>...</td>\n      <td>...</td>\n      <td>...</td>\n      <td>...</td>\n      <td>...</td>\n      <td>...</td>\n      <td>...</td>\n    </tr>\n    <tr>\n      <th>389</th>\n      <td>27/12/2021 - Segunda</td>\n      <td>06:35:00</td>\n      <td>27/12/2021 - Segunda</td>\n      <td>18:41:00</td>\n      <td>12:06:00</td>\n      <td>---</td>\n      <td>---</td>\n      <td>---</td>\n    </tr>\n    <tr>\n      <th>390</th>\n      <td>28/12/2021 - Terça</td>\n      <td>---</td>\n      <td>28/12/2021 - Terça</td>\n      <td>---</td>\n      <td>---</td>\n      <td>---</td>\n      <td>---</td>\n      <td>---</td>\n    </tr>\n    <tr>\n      <th>391</th>\n      <td>29/12/2021 - Quarta</td>\n      <td>---</td>\n      <td>29/12/2021 - Quarta</td>\n      <td>---</td>\n      <td>---</td>\n      <td>---</td>\n      <td>---</td>\n      <td>---</td>\n    </tr>\n    <tr>\n      <th>392</th>\n      <td>30/12/2021 - Quinta</td>\n      <td>18:30:00</td>\n      <td>31/12/2021 - Sexta</td>\n      <td>05:48:00</td>\n      <td>11:18:00</td>\n      <td>---</td>\n      <td>---</td>\n      <td>---</td>\n    </tr>\n    <tr>\n      <th>393</th>\n      <td>31/12/2021 - Sexta</td>\n      <td>---</td>\n      <td>31/12/2021 - Sexta</td>\n      <td>---</td>\n      <td>---</td>\n      <td>---</td>\n      <td>---</td>\n      <td>---</td>\n    </tr>\n  </tbody>\n</table>\n<p>394 rows × 8 columns</p>\n</div>"
     },
     "execution_count": 97,
     "metadata": {},
     "output_type": "execute_result"
    }
   ],
   "source": [
    "copy_year_2021"
   ],
   "metadata": {
    "collapsed": false,
    "ExecuteTime": {
     "end_time": "2024-07-21T16:27:13.558136Z",
     "start_time": "2024-07-21T16:27:13.547920Z"
    }
   },
   "id": "db59314888123629",
   "execution_count": 97
  },
  {
   "cell_type": "code",
   "outputs": [
    {
     "data": {
      "text/plain": "0      False\n1      False\n2       True\n3       True\n4      False\n       ...  \n389     True\n390    False\n391    False\n392     True\n393    False\nLength: 394, dtype: bool"
     },
     "execution_count": 102,
     "metadata": {},
     "output_type": "execute_result"
    }
   ],
   "source": [
    "data_valid = (copy_year_2021['TRABALHADA'] != '---') | (copy_year_2021['HORA JUSTIFICADA'] != '---') | (copy_year_2021['STATUS'] == 'APROVADO') | (copy_year_2021['DATA ENTRADA'] == 'JUSTIFICATIVA') | (copy_year_2021['DATA ENTRADA'] == 'AVISO')\n",
    "data_valid"
   ],
   "metadata": {
    "collapsed": false,
    "ExecuteTime": {
     "end_time": "2024-07-21T16:37:43.913069Z",
     "start_time": "2024-07-21T16:37:43.904638Z"
    }
   },
   "id": "428f115ec0f65377",
   "execution_count": 102
  },
  {
   "cell_type": "code",
   "outputs": [],
   "source": [
    "final_data = copy_year_2021[data_valid]"
   ],
   "metadata": {
    "collapsed": false,
    "ExecuteTime": {
     "end_time": "2024-07-21T18:04:10.195209Z",
     "start_time": "2024-07-21T18:04:10.161907Z"
    }
   },
   "id": "518c3ee4ef7fe927",
   "execution_count": 104
  },
  {
   "cell_type": "code",
   "outputs": [
    {
     "data": {
      "text/plain": "             DATA ENTRADA                                            ENTRADA  \\\n2      03/2/2021 - Quarta                                           00:00:00   \n3           JUSTIFICATIVA  14-02-2021 19:52:01 NÃO ESTAVA COM DIGITAL CAD...   \n6      06/2/2021 - Sábado                                           00:00:00   \n7           JUSTIFICATIVA  14-02-2021 19:52:54 NÃO ESTAVA COM DIGITAL CAD...   \n10      09/2/2021 - Terça                                           00:00:00   \n..                    ...                                                ...   \n379    17/12/2021 - Sexta                                           06:11:00   \n383    21/12/2021 - Terça                                           06:19:00   \n386    24/12/2021 - Sexta                                           06:05:00   \n389  27/12/2021 - Segunda                                           06:35:00   \n392   30/12/2021 - Quinta                                           18:30:00   \n\n               DATA SAÍDA     SAÍDA TRABALHADA HORA JUSTIFICADA    STATUS  \\\n2     03/02/2021 - Quarta  00:00:00        ---         12:00:00  APROVADO   \n3                     ---       ---        ---              ---       ---   \n6     06/02/2021 - Sábado  00:00:00        ---         12:00:00  APROVADO   \n7                     ---       ---        ---              ---       ---   \n10     09/02/2021 - Terça  00:00:00        ---         12:00:00  APROVADO   \n..                    ...       ...        ...              ...       ...   \n379    17/12/2021 - Sexta  18:47:00   12:36:00              ---       ---   \n383    21/12/2021 - Terça  17:46:00   11:27:00              ---       ---   \n386    24/12/2021 - Sexta  18:36:00   12:31:00              ---       ---   \n389  27/12/2021 - Segunda  18:41:00   12:06:00              ---       ---   \n392    31/12/2021 - Sexta  05:48:00   11:18:00              ---       ---   \n\n    EDITAR  \n2      Ver  \n3      NaN  \n6      Ver  \n7      NaN  \n10     Ver  \n..     ...  \n379    ---  \n383    ---  \n386    ---  \n389    ---  \n392    ---  \n\n[139 rows x 8 columns]",
      "text/html": "<div>\n<style scoped>\n    .dataframe tbody tr th:only-of-type {\n        vertical-align: middle;\n    }\n\n    .dataframe tbody tr th {\n        vertical-align: top;\n    }\n\n    .dataframe thead th {\n        text-align: right;\n    }\n</style>\n<table border=\"1\" class=\"dataframe\">\n  <thead>\n    <tr style=\"text-align: right;\">\n      <th></th>\n      <th>DATA ENTRADA</th>\n      <th>ENTRADA</th>\n      <th>DATA SAÍDA</th>\n      <th>SAÍDA</th>\n      <th>TRABALHADA</th>\n      <th>HORA JUSTIFICADA</th>\n      <th>STATUS</th>\n      <th>EDITAR</th>\n    </tr>\n  </thead>\n  <tbody>\n    <tr>\n      <th>2</th>\n      <td>03/2/2021 - Quarta</td>\n      <td>00:00:00</td>\n      <td>03/02/2021 - Quarta</td>\n      <td>00:00:00</td>\n      <td>---</td>\n      <td>12:00:00</td>\n      <td>APROVADO</td>\n      <td>Ver</td>\n    </tr>\n    <tr>\n      <th>3</th>\n      <td>JUSTIFICATIVA</td>\n      <td>14-02-2021 19:52:01 NÃO ESTAVA COM DIGITAL CAD...</td>\n      <td>---</td>\n      <td>---</td>\n      <td>---</td>\n      <td>---</td>\n      <td>---</td>\n      <td>NaN</td>\n    </tr>\n    <tr>\n      <th>6</th>\n      <td>06/2/2021 - Sábado</td>\n      <td>00:00:00</td>\n      <td>06/02/2021 - Sábado</td>\n      <td>00:00:00</td>\n      <td>---</td>\n      <td>12:00:00</td>\n      <td>APROVADO</td>\n      <td>Ver</td>\n    </tr>\n    <tr>\n      <th>7</th>\n      <td>JUSTIFICATIVA</td>\n      <td>14-02-2021 19:52:54 NÃO ESTAVA COM DIGITAL CAD...</td>\n      <td>---</td>\n      <td>---</td>\n      <td>---</td>\n      <td>---</td>\n      <td>---</td>\n      <td>NaN</td>\n    </tr>\n    <tr>\n      <th>10</th>\n      <td>09/2/2021 - Terça</td>\n      <td>00:00:00</td>\n      <td>09/02/2021 - Terça</td>\n      <td>00:00:00</td>\n      <td>---</td>\n      <td>12:00:00</td>\n      <td>APROVADO</td>\n      <td>Ver</td>\n    </tr>\n    <tr>\n      <th>...</th>\n      <td>...</td>\n      <td>...</td>\n      <td>...</td>\n      <td>...</td>\n      <td>...</td>\n      <td>...</td>\n      <td>...</td>\n      <td>...</td>\n    </tr>\n    <tr>\n      <th>379</th>\n      <td>17/12/2021 - Sexta</td>\n      <td>06:11:00</td>\n      <td>17/12/2021 - Sexta</td>\n      <td>18:47:00</td>\n      <td>12:36:00</td>\n      <td>---</td>\n      <td>---</td>\n      <td>---</td>\n    </tr>\n    <tr>\n      <th>383</th>\n      <td>21/12/2021 - Terça</td>\n      <td>06:19:00</td>\n      <td>21/12/2021 - Terça</td>\n      <td>17:46:00</td>\n      <td>11:27:00</td>\n      <td>---</td>\n      <td>---</td>\n      <td>---</td>\n    </tr>\n    <tr>\n      <th>386</th>\n      <td>24/12/2021 - Sexta</td>\n      <td>06:05:00</td>\n      <td>24/12/2021 - Sexta</td>\n      <td>18:36:00</td>\n      <td>12:31:00</td>\n      <td>---</td>\n      <td>---</td>\n      <td>---</td>\n    </tr>\n    <tr>\n      <th>389</th>\n      <td>27/12/2021 - Segunda</td>\n      <td>06:35:00</td>\n      <td>27/12/2021 - Segunda</td>\n      <td>18:41:00</td>\n      <td>12:06:00</td>\n      <td>---</td>\n      <td>---</td>\n      <td>---</td>\n    </tr>\n    <tr>\n      <th>392</th>\n      <td>30/12/2021 - Quinta</td>\n      <td>18:30:00</td>\n      <td>31/12/2021 - Sexta</td>\n      <td>05:48:00</td>\n      <td>11:18:00</td>\n      <td>---</td>\n      <td>---</td>\n      <td>---</td>\n    </tr>\n  </tbody>\n</table>\n<p>139 rows × 8 columns</p>\n</div>"
     },
     "execution_count": 105,
     "metadata": {},
     "output_type": "execute_result"
    }
   ],
   "source": [
    "final_data"
   ],
   "metadata": {
    "collapsed": false,
    "ExecuteTime": {
     "end_time": "2024-07-21T18:04:24.849887Z",
     "start_time": "2024-07-21T18:04:24.837557Z"
    }
   },
   "id": "ff20e1d5075cf5a3",
   "execution_count": 105
  },
  {
   "cell_type": "code",
   "outputs": [
    {
     "data": {
      "text/plain": "            DATA ENTRADA   ENTRADA            DATA SAÍDA     SAÍDA TRABALHADA  \\\n0     01/1/2022 - Sábado       ---    01/1/2022 - Sábado       ---        ---   \n1    02/1/2022 - Domingo       ---   02/1/2022 - Domingo       ---        ---   \n2    03/1/2022 - Segunda  06:16:00  03/01/2022 - Segunda  18:32:00   12:16:00   \n3    03/1/2022 - Segunda  18:32:00    04/01/2022 - Terça  06:04:00   11:32:00   \n4      04/1/2022 - Terça       ---     04/1/2022 - Terça       ---        ---   \n..                   ...       ...                   ...       ...        ...   \n430   27/12/2022 - Terça       ---    27/12/2022 - Terça       ---        ---   \n431  28/12/2022 - Quarta       ---   28/12/2022 - Quarta       ---        ---   \n432  29/12/2022 - Quinta       ---   29/12/2022 - Quinta       ---        ---   \n433   30/12/2022 - Sexta       ---    30/12/2022 - Sexta       ---        ---   \n434  31/12/2022 - Sábado       ---   31/12/2022 - Sábado       ---        ---   \n\n    HORA JUSTIFICADA STATUS EDITAR  \n0                ---    ---    ---  \n1                ---    ---    ---  \n2                ---    ---    ---  \n3                ---    ---    ---  \n4                ---    ---    ---  \n..               ...    ...    ...  \n430              ---    ---    ---  \n431              ---    ---    ---  \n432              ---    ---    ---  \n433              ---    ---    ---  \n434              ---    ---    ---  \n\n[435 rows x 8 columns]",
      "text/html": "<div>\n<style scoped>\n    .dataframe tbody tr th:only-of-type {\n        vertical-align: middle;\n    }\n\n    .dataframe tbody tr th {\n        vertical-align: top;\n    }\n\n    .dataframe thead th {\n        text-align: right;\n    }\n</style>\n<table border=\"1\" class=\"dataframe\">\n  <thead>\n    <tr style=\"text-align: right;\">\n      <th></th>\n      <th>DATA ENTRADA</th>\n      <th>ENTRADA</th>\n      <th>DATA SAÍDA</th>\n      <th>SAÍDA</th>\n      <th>TRABALHADA</th>\n      <th>HORA JUSTIFICADA</th>\n      <th>STATUS</th>\n      <th>EDITAR</th>\n    </tr>\n  </thead>\n  <tbody>\n    <tr>\n      <th>0</th>\n      <td>01/1/2022 - Sábado</td>\n      <td>---</td>\n      <td>01/1/2022 - Sábado</td>\n      <td>---</td>\n      <td>---</td>\n      <td>---</td>\n      <td>---</td>\n      <td>---</td>\n    </tr>\n    <tr>\n      <th>1</th>\n      <td>02/1/2022 - Domingo</td>\n      <td>---</td>\n      <td>02/1/2022 - Domingo</td>\n      <td>---</td>\n      <td>---</td>\n      <td>---</td>\n      <td>---</td>\n      <td>---</td>\n    </tr>\n    <tr>\n      <th>2</th>\n      <td>03/1/2022 - Segunda</td>\n      <td>06:16:00</td>\n      <td>03/01/2022 - Segunda</td>\n      <td>18:32:00</td>\n      <td>12:16:00</td>\n      <td>---</td>\n      <td>---</td>\n      <td>---</td>\n    </tr>\n    <tr>\n      <th>3</th>\n      <td>03/1/2022 - Segunda</td>\n      <td>18:32:00</td>\n      <td>04/01/2022 - Terça</td>\n      <td>06:04:00</td>\n      <td>11:32:00</td>\n      <td>---</td>\n      <td>---</td>\n      <td>---</td>\n    </tr>\n    <tr>\n      <th>4</th>\n      <td>04/1/2022 - Terça</td>\n      <td>---</td>\n      <td>04/1/2022 - Terça</td>\n      <td>---</td>\n      <td>---</td>\n      <td>---</td>\n      <td>---</td>\n      <td>---</td>\n    </tr>\n    <tr>\n      <th>...</th>\n      <td>...</td>\n      <td>...</td>\n      <td>...</td>\n      <td>...</td>\n      <td>...</td>\n      <td>...</td>\n      <td>...</td>\n      <td>...</td>\n    </tr>\n    <tr>\n      <th>430</th>\n      <td>27/12/2022 - Terça</td>\n      <td>---</td>\n      <td>27/12/2022 - Terça</td>\n      <td>---</td>\n      <td>---</td>\n      <td>---</td>\n      <td>---</td>\n      <td>---</td>\n    </tr>\n    <tr>\n      <th>431</th>\n      <td>28/12/2022 - Quarta</td>\n      <td>---</td>\n      <td>28/12/2022 - Quarta</td>\n      <td>---</td>\n      <td>---</td>\n      <td>---</td>\n      <td>---</td>\n      <td>---</td>\n    </tr>\n    <tr>\n      <th>432</th>\n      <td>29/12/2022 - Quinta</td>\n      <td>---</td>\n      <td>29/12/2022 - Quinta</td>\n      <td>---</td>\n      <td>---</td>\n      <td>---</td>\n      <td>---</td>\n      <td>---</td>\n    </tr>\n    <tr>\n      <th>433</th>\n      <td>30/12/2022 - Sexta</td>\n      <td>---</td>\n      <td>30/12/2022 - Sexta</td>\n      <td>---</td>\n      <td>---</td>\n      <td>---</td>\n      <td>---</td>\n      <td>---</td>\n    </tr>\n    <tr>\n      <th>434</th>\n      <td>31/12/2022 - Sábado</td>\n      <td>---</td>\n      <td>31/12/2022 - Sábado</td>\n      <td>---</td>\n      <td>---</td>\n      <td>---</td>\n      <td>---</td>\n      <td>---</td>\n    </tr>\n  </tbody>\n</table>\n<p>435 rows × 8 columns</p>\n</div>"
     },
     "execution_count": 115,
     "metadata": {},
     "output_type": "execute_result"
    }
   ],
   "source": [
    "# Abre o arquivo original\n",
    "year_2022 = pd.read_excel('./DATA_ORIGIN.xlsx', sheet_name='2022')\n",
    "year_2022"
   ],
   "metadata": {
    "collapsed": false,
    "ExecuteTime": {
     "end_time": "2024-07-21T18:52:11.735188Z",
     "start_time": "2024-07-21T18:52:10.538210Z"
    }
   },
   "id": "76ea683b6206496b",
   "execution_count": 115
  },
  {
   "cell_type": "code",
   "outputs": [
    {
     "data": {
      "text/plain": "            DATA ENTRADA   ENTRADA            DATA SAÍDA     SAÍDA TRABALHADA  \\\n0     01/1/2022 - Sábado       ---    01/1/2022 - Sábado       ---        ---   \n1    02/1/2022 - Domingo       ---   02/1/2022 - Domingo       ---        ---   \n2    03/1/2022 - Segunda  06:16:00  03/01/2022 - Segunda  18:32:00   12:16:00   \n3    03/1/2022 - Segunda  18:32:00    04/01/2022 - Terça  06:04:00   11:32:00   \n4      04/1/2022 - Terça       ---     04/1/2022 - Terça       ---        ---   \n..                   ...       ...                   ...       ...        ...   \n430   27/12/2022 - Terça       ---    27/12/2022 - Terça       ---        ---   \n431  28/12/2022 - Quarta       ---   28/12/2022 - Quarta       ---        ---   \n432  29/12/2022 - Quinta       ---   29/12/2022 - Quinta       ---        ---   \n433   30/12/2022 - Sexta       ---    30/12/2022 - Sexta       ---        ---   \n434  31/12/2022 - Sábado       ---   31/12/2022 - Sábado       ---        ---   \n\n    HORA JUSTIFICADA STATUS EDITAR  \n0                ---    ---    ---  \n1                ---    ---    ---  \n2                ---    ---    ---  \n3                ---    ---    ---  \n4                ---    ---    ---  \n..               ...    ...    ...  \n430              ---    ---    ---  \n431              ---    ---    ---  \n432              ---    ---    ---  \n433              ---    ---    ---  \n434              ---    ---    ---  \n\n[435 rows x 8 columns]",
      "text/html": "<div>\n<style scoped>\n    .dataframe tbody tr th:only-of-type {\n        vertical-align: middle;\n    }\n\n    .dataframe tbody tr th {\n        vertical-align: top;\n    }\n\n    .dataframe thead th {\n        text-align: right;\n    }\n</style>\n<table border=\"1\" class=\"dataframe\">\n  <thead>\n    <tr style=\"text-align: right;\">\n      <th></th>\n      <th>DATA ENTRADA</th>\n      <th>ENTRADA</th>\n      <th>DATA SAÍDA</th>\n      <th>SAÍDA</th>\n      <th>TRABALHADA</th>\n      <th>HORA JUSTIFICADA</th>\n      <th>STATUS</th>\n      <th>EDITAR</th>\n    </tr>\n  </thead>\n  <tbody>\n    <tr>\n      <th>0</th>\n      <td>01/1/2022 - Sábado</td>\n      <td>---</td>\n      <td>01/1/2022 - Sábado</td>\n      <td>---</td>\n      <td>---</td>\n      <td>---</td>\n      <td>---</td>\n      <td>---</td>\n    </tr>\n    <tr>\n      <th>1</th>\n      <td>02/1/2022 - Domingo</td>\n      <td>---</td>\n      <td>02/1/2022 - Domingo</td>\n      <td>---</td>\n      <td>---</td>\n      <td>---</td>\n      <td>---</td>\n      <td>---</td>\n    </tr>\n    <tr>\n      <th>2</th>\n      <td>03/1/2022 - Segunda</td>\n      <td>06:16:00</td>\n      <td>03/01/2022 - Segunda</td>\n      <td>18:32:00</td>\n      <td>12:16:00</td>\n      <td>---</td>\n      <td>---</td>\n      <td>---</td>\n    </tr>\n    <tr>\n      <th>3</th>\n      <td>03/1/2022 - Segunda</td>\n      <td>18:32:00</td>\n      <td>04/01/2022 - Terça</td>\n      <td>06:04:00</td>\n      <td>11:32:00</td>\n      <td>---</td>\n      <td>---</td>\n      <td>---</td>\n    </tr>\n    <tr>\n      <th>4</th>\n      <td>04/1/2022 - Terça</td>\n      <td>---</td>\n      <td>04/1/2022 - Terça</td>\n      <td>---</td>\n      <td>---</td>\n      <td>---</td>\n      <td>---</td>\n      <td>---</td>\n    </tr>\n    <tr>\n      <th>...</th>\n      <td>...</td>\n      <td>...</td>\n      <td>...</td>\n      <td>...</td>\n      <td>...</td>\n      <td>...</td>\n      <td>...</td>\n      <td>...</td>\n    </tr>\n    <tr>\n      <th>430</th>\n      <td>27/12/2022 - Terça</td>\n      <td>---</td>\n      <td>27/12/2022 - Terça</td>\n      <td>---</td>\n      <td>---</td>\n      <td>---</td>\n      <td>---</td>\n      <td>---</td>\n    </tr>\n    <tr>\n      <th>431</th>\n      <td>28/12/2022 - Quarta</td>\n      <td>---</td>\n      <td>28/12/2022 - Quarta</td>\n      <td>---</td>\n      <td>---</td>\n      <td>---</td>\n      <td>---</td>\n      <td>---</td>\n    </tr>\n    <tr>\n      <th>432</th>\n      <td>29/12/2022 - Quinta</td>\n      <td>---</td>\n      <td>29/12/2022 - Quinta</td>\n      <td>---</td>\n      <td>---</td>\n      <td>---</td>\n      <td>---</td>\n      <td>---</td>\n    </tr>\n    <tr>\n      <th>433</th>\n      <td>30/12/2022 - Sexta</td>\n      <td>---</td>\n      <td>30/12/2022 - Sexta</td>\n      <td>---</td>\n      <td>---</td>\n      <td>---</td>\n      <td>---</td>\n      <td>---</td>\n    </tr>\n    <tr>\n      <th>434</th>\n      <td>31/12/2022 - Sábado</td>\n      <td>---</td>\n      <td>31/12/2022 - Sábado</td>\n      <td>---</td>\n      <td>---</td>\n      <td>---</td>\n      <td>---</td>\n      <td>---</td>\n    </tr>\n  </tbody>\n</table>\n<p>435 rows × 8 columns</p>\n</div>"
     },
     "execution_count": 129,
     "metadata": {},
     "output_type": "execute_result"
    }
   ],
   "source": [
    "# Faz uma cópia do arquivo original e atribui a variável data\n",
    "data = year_2022.copy()\n",
    "data"
   ],
   "metadata": {
    "collapsed": false,
    "ExecuteTime": {
     "end_time": "2024-07-21T19:16:59.797889Z",
     "start_time": "2024-07-21T19:16:59.788145Z"
    }
   },
   "id": "ddbac3013f24d1bb",
   "execution_count": 129
  },
  {
   "cell_type": "code",
   "outputs": [
    {
     "data": {
      "text/plain": "            DATA ENTRADA   ENTRADA            DATA SAÍDA     SAÍDA TRABALHADA  \\\n0     01/1/2022 - Sábado       ---    01/1/2022 - Sábado       ---        ---   \n1    02/1/2022 - Domingo       ---   02/1/2022 - Domingo       ---        ---   \n2    03/1/2022 - Segunda  06:16:00  03/01/2022 - Segunda  18:32:00   12:16:00   \n3    03/1/2022 - Segunda  18:32:00    04/01/2022 - Terça  06:04:00   11:32:00   \n4      04/1/2022 - Terça       ---     04/1/2022 - Terça       ---        ---   \n..                   ...       ...                   ...       ...        ...   \n430   27/12/2022 - Terça       ---    27/12/2022 - Terça       ---        ---   \n431  28/12/2022 - Quarta       ---   28/12/2022 - Quarta       ---        ---   \n432  29/12/2022 - Quinta       ---   29/12/2022 - Quinta       ---        ---   \n433   30/12/2022 - Sexta       ---    30/12/2022 - Sexta       ---        ---   \n434  31/12/2022 - Sábado       ---   31/12/2022 - Sábado       ---        ---   \n\n    HORA JUSTIFICADA STATUS EDITAR  \n0                ---    ---    ---  \n1                ---    ---    ---  \n2                ---    ---    ---  \n3                ---    ---    ---  \n4                ---    ---    ---  \n..               ...    ...    ...  \n430              ---    ---    ---  \n431              ---    ---    ---  \n432              ---    ---    ---  \n433              ---    ---    ---  \n434              ---    ---    ---  \n\n[435 rows x 8 columns]",
      "text/html": "<div>\n<style scoped>\n    .dataframe tbody tr th:only-of-type {\n        vertical-align: middle;\n    }\n\n    .dataframe tbody tr th {\n        vertical-align: top;\n    }\n\n    .dataframe thead th {\n        text-align: right;\n    }\n</style>\n<table border=\"1\" class=\"dataframe\">\n  <thead>\n    <tr style=\"text-align: right;\">\n      <th></th>\n      <th>DATA ENTRADA</th>\n      <th>ENTRADA</th>\n      <th>DATA SAÍDA</th>\n      <th>SAÍDA</th>\n      <th>TRABALHADA</th>\n      <th>HORA JUSTIFICADA</th>\n      <th>STATUS</th>\n      <th>EDITAR</th>\n    </tr>\n  </thead>\n  <tbody>\n    <tr>\n      <th>0</th>\n      <td>01/1/2022 - Sábado</td>\n      <td>---</td>\n      <td>01/1/2022 - Sábado</td>\n      <td>---</td>\n      <td>---</td>\n      <td>---</td>\n      <td>---</td>\n      <td>---</td>\n    </tr>\n    <tr>\n      <th>1</th>\n      <td>02/1/2022 - Domingo</td>\n      <td>---</td>\n      <td>02/1/2022 - Domingo</td>\n      <td>---</td>\n      <td>---</td>\n      <td>---</td>\n      <td>---</td>\n      <td>---</td>\n    </tr>\n    <tr>\n      <th>2</th>\n      <td>03/1/2022 - Segunda</td>\n      <td>06:16:00</td>\n      <td>03/01/2022 - Segunda</td>\n      <td>18:32:00</td>\n      <td>12:16:00</td>\n      <td>---</td>\n      <td>---</td>\n      <td>---</td>\n    </tr>\n    <tr>\n      <th>3</th>\n      <td>03/1/2022 - Segunda</td>\n      <td>18:32:00</td>\n      <td>04/01/2022 - Terça</td>\n      <td>06:04:00</td>\n      <td>11:32:00</td>\n      <td>---</td>\n      <td>---</td>\n      <td>---</td>\n    </tr>\n    <tr>\n      <th>4</th>\n      <td>04/1/2022 - Terça</td>\n      <td>---</td>\n      <td>04/1/2022 - Terça</td>\n      <td>---</td>\n      <td>---</td>\n      <td>---</td>\n      <td>---</td>\n      <td>---</td>\n    </tr>\n    <tr>\n      <th>...</th>\n      <td>...</td>\n      <td>...</td>\n      <td>...</td>\n      <td>...</td>\n      <td>...</td>\n      <td>...</td>\n      <td>...</td>\n      <td>...</td>\n    </tr>\n    <tr>\n      <th>430</th>\n      <td>27/12/2022 - Terça</td>\n      <td>---</td>\n      <td>27/12/2022 - Terça</td>\n      <td>---</td>\n      <td>---</td>\n      <td>---</td>\n      <td>---</td>\n      <td>---</td>\n    </tr>\n    <tr>\n      <th>431</th>\n      <td>28/12/2022 - Quarta</td>\n      <td>---</td>\n      <td>28/12/2022 - Quarta</td>\n      <td>---</td>\n      <td>---</td>\n      <td>---</td>\n      <td>---</td>\n      <td>---</td>\n    </tr>\n    <tr>\n      <th>432</th>\n      <td>29/12/2022 - Quinta</td>\n      <td>---</td>\n      <td>29/12/2022 - Quinta</td>\n      <td>---</td>\n      <td>---</td>\n      <td>---</td>\n      <td>---</td>\n      <td>---</td>\n    </tr>\n    <tr>\n      <th>433</th>\n      <td>30/12/2022 - Sexta</td>\n      <td>---</td>\n      <td>30/12/2022 - Sexta</td>\n      <td>---</td>\n      <td>---</td>\n      <td>---</td>\n      <td>---</td>\n      <td>---</td>\n    </tr>\n    <tr>\n      <th>434</th>\n      <td>31/12/2022 - Sábado</td>\n      <td>---</td>\n      <td>31/12/2022 - Sábado</td>\n      <td>---</td>\n      <td>---</td>\n      <td>---</td>\n      <td>---</td>\n      <td>---</td>\n    </tr>\n  </tbody>\n</table>\n<p>435 rows × 8 columns</p>\n</div>"
     },
     "execution_count": 190,
     "metadata": {},
     "output_type": "execute_result"
    }
   ],
   "source": [
    "# Atualiza a cópia do dataframe substituindo o conteúdo das colunas\n",
    "# DATA SAÍDA, SAÍDA, TRABALHADA, HORA JUSTIFICADA e STATUS para uma string '---'\n",
    "# nas linhas onde a coluna DATA ENTRADA tem a palavra JUSTIFICATIVA\n",
    "mask = data['DATA ENTRADA'].str.contains('JUSTIFICATIVA')\n",
    "data.update({\n",
    "    'DATA SAÍDA': data['DATA SAÍDA'].where(~mask, '---'),\n",
    "    'SAÍDA': data['SAÍDA'].where(~mask, '---'),\n",
    "    'TRABALHADA': data['TRABALHADA'].where(~mask, '---'),\n",
    "    'HORA JUSTIFICADA': data['HORA JUSTIFICADA'].where(~mask, '---'),\n",
    "    'STATUS': data['STATUS'].where(~mask, '---'),\n",
    "})\n",
    "\n",
    "data"
   ],
   "metadata": {
    "collapsed": false,
    "ExecuteTime": {
     "end_time": "2024-07-21T21:24:36.234545Z",
     "start_time": "2024-07-21T21:24:36.217293Z"
    }
   },
   "id": "4a98771e2dc4e789",
   "execution_count": 190
  },
  {
   "cell_type": "code",
   "outputs": [
    {
     "data": {
      "text/plain": "            DATA ENTRADA   ENTRADA            DATA SAÍDA     SAÍDA TRABALHADA  \\\n0     01/1/2022 - Sábado       ---    01/1/2022 - Sábado       ---        ---   \n1    02/1/2022 - Domingo       ---   02/1/2022 - Domingo       ---        ---   \n2    03/1/2022 - Segunda  06:16:00  03/01/2022 - Segunda  18:32:00   12:16:00   \n3    03/1/2022 - Segunda  18:32:00    04/01/2022 - Terça  06:04:00   11:32:00   \n4      04/1/2022 - Terça       ---     04/1/2022 - Terça       ---        ---   \n..                   ...       ...                   ...       ...        ...   \n430   27/12/2022 - Terça       ---    27/12/2022 - Terça       ---        ---   \n431  28/12/2022 - Quarta       ---   28/12/2022 - Quarta       ---        ---   \n432  29/12/2022 - Quinta       ---   29/12/2022 - Quinta       ---        ---   \n433   30/12/2022 - Sexta       ---    30/12/2022 - Sexta       ---        ---   \n434  31/12/2022 - Sábado       ---   31/12/2022 - Sábado       ---        ---   \n\n    HORA JUSTIFICADA STATUS EDITAR ESTATUS EDITAR  \n0                ---    ---    ---            NaN  \n1                ---    ---    ---            NaN  \n2                ---    ---    ---            NaN  \n3                ---    ---    ---            NaN  \n4                ---    ---    ---            NaN  \n..               ...    ...    ...            ...  \n430              ---    ---    ---            NaN  \n431              ---    ---    ---            NaN  \n432              ---    ---    ---            NaN  \n433              ---    ---    ---            NaN  \n434              ---    ---    ---            NaN  \n\n[435 rows x 9 columns]",
      "text/html": "<div>\n<style scoped>\n    .dataframe tbody tr th:only-of-type {\n        vertical-align: middle;\n    }\n\n    .dataframe tbody tr th {\n        vertical-align: top;\n    }\n\n    .dataframe thead th {\n        text-align: right;\n    }\n</style>\n<table border=\"1\" class=\"dataframe\">\n  <thead>\n    <tr style=\"text-align: right;\">\n      <th></th>\n      <th>DATA ENTRADA</th>\n      <th>ENTRADA</th>\n      <th>DATA SAÍDA</th>\n      <th>SAÍDA</th>\n      <th>TRABALHADA</th>\n      <th>HORA JUSTIFICADA</th>\n      <th>STATUS</th>\n      <th>EDITAR</th>\n      <th>ESTATUS EDITAR</th>\n    </tr>\n  </thead>\n  <tbody>\n    <tr>\n      <th>0</th>\n      <td>01/1/2022 - Sábado</td>\n      <td>---</td>\n      <td>01/1/2022 - Sábado</td>\n      <td>---</td>\n      <td>---</td>\n      <td>---</td>\n      <td>---</td>\n      <td>---</td>\n      <td>NaN</td>\n    </tr>\n    <tr>\n      <th>1</th>\n      <td>02/1/2022 - Domingo</td>\n      <td>---</td>\n      <td>02/1/2022 - Domingo</td>\n      <td>---</td>\n      <td>---</td>\n      <td>---</td>\n      <td>---</td>\n      <td>---</td>\n      <td>NaN</td>\n    </tr>\n    <tr>\n      <th>2</th>\n      <td>03/1/2022 - Segunda</td>\n      <td>06:16:00</td>\n      <td>03/01/2022 - Segunda</td>\n      <td>18:32:00</td>\n      <td>12:16:00</td>\n      <td>---</td>\n      <td>---</td>\n      <td>---</td>\n      <td>NaN</td>\n    </tr>\n    <tr>\n      <th>3</th>\n      <td>03/1/2022 - Segunda</td>\n      <td>18:32:00</td>\n      <td>04/01/2022 - Terça</td>\n      <td>06:04:00</td>\n      <td>11:32:00</td>\n      <td>---</td>\n      <td>---</td>\n      <td>---</td>\n      <td>NaN</td>\n    </tr>\n    <tr>\n      <th>4</th>\n      <td>04/1/2022 - Terça</td>\n      <td>---</td>\n      <td>04/1/2022 - Terça</td>\n      <td>---</td>\n      <td>---</td>\n      <td>---</td>\n      <td>---</td>\n      <td>---</td>\n      <td>NaN</td>\n    </tr>\n    <tr>\n      <th>...</th>\n      <td>...</td>\n      <td>...</td>\n      <td>...</td>\n      <td>...</td>\n      <td>...</td>\n      <td>...</td>\n      <td>...</td>\n      <td>...</td>\n      <td>...</td>\n    </tr>\n    <tr>\n      <th>430</th>\n      <td>27/12/2022 - Terça</td>\n      <td>---</td>\n      <td>27/12/2022 - Terça</td>\n      <td>---</td>\n      <td>---</td>\n      <td>---</td>\n      <td>---</td>\n      <td>---</td>\n      <td>NaN</td>\n    </tr>\n    <tr>\n      <th>431</th>\n      <td>28/12/2022 - Quarta</td>\n      <td>---</td>\n      <td>28/12/2022 - Quarta</td>\n      <td>---</td>\n      <td>---</td>\n      <td>---</td>\n      <td>---</td>\n      <td>---</td>\n      <td>NaN</td>\n    </tr>\n    <tr>\n      <th>432</th>\n      <td>29/12/2022 - Quinta</td>\n      <td>---</td>\n      <td>29/12/2022 - Quinta</td>\n      <td>---</td>\n      <td>---</td>\n      <td>---</td>\n      <td>---</td>\n      <td>---</td>\n      <td>NaN</td>\n    </tr>\n    <tr>\n      <th>433</th>\n      <td>30/12/2022 - Sexta</td>\n      <td>---</td>\n      <td>30/12/2022 - Sexta</td>\n      <td>---</td>\n      <td>---</td>\n      <td>---</td>\n      <td>---</td>\n      <td>---</td>\n      <td>NaN</td>\n    </tr>\n    <tr>\n      <th>434</th>\n      <td>31/12/2022 - Sábado</td>\n      <td>---</td>\n      <td>31/12/2022 - Sábado</td>\n      <td>---</td>\n      <td>---</td>\n      <td>---</td>\n      <td>---</td>\n      <td>---</td>\n      <td>NaN</td>\n    </tr>\n  </tbody>\n</table>\n<p>435 rows × 9 columns</p>\n</div>"
     },
     "execution_count": 222,
     "metadata": {},
     "output_type": "execute_result"
    }
   ],
   "source": [
    "# Faz a mesma atualização anterior, só que usando o método 'loc'\n",
    "data.loc[data['DATA ENTRADA'].str.contains('JUSTIFICATIVA') | data['DATA ENTRADA'].str.contains('AVISO'), \n",
    "['DATA SAÍDA', 'SAÍDA', 'TRABALHADA', 'HORA JUSTIFICADA', 'STATUS']] = '---'\n",
    "data"
   ],
   "metadata": {
    "collapsed": false,
    "ExecuteTime": {
     "end_time": "2024-07-21T22:47:36.655471Z",
     "start_time": "2024-07-21T22:47:36.641637Z"
    }
   },
   "id": "9fad1cc644a81599",
   "execution_count": 222
  },
  {
   "cell_type": "code",
   "outputs": [
    {
     "data": {
      "text/plain": "            DATA ENTRADA   ENTRADA            DATA SAÍDA     SAÍDA TRABALHADA  \\\n0     01/1/2022 - Sábado       ---    01/1/2022 - Sábado       ---        ---   \n1    02/1/2022 - Domingo       ---   02/1/2022 - Domingo       ---        ---   \n2    03/1/2022 - Segunda  06:16:00  03/01/2022 - Segunda  18:32:00   12:16:00   \n3    03/1/2022 - Segunda  18:32:00    04/01/2022 - Terça  06:04:00   11:32:00   \n4      04/1/2022 - Terça       ---     04/1/2022 - Terça       ---        ---   \n..                   ...       ...                   ...       ...        ...   \n430   27/12/2022 - Terça       ---    27/12/2022 - Terça       ---        ---   \n431  28/12/2022 - Quarta       ---   28/12/2022 - Quarta       ---        ---   \n432  29/12/2022 - Quinta       ---   29/12/2022 - Quinta       ---        ---   \n433   30/12/2022 - Sexta       ---    30/12/2022 - Sexta       ---        ---   \n434  31/12/2022 - Sábado       ---   31/12/2022 - Sábado       ---        ---   \n\n    HORA JUSTIFICADA STATUS EDITAR  \n0                ---    ---    ---  \n1                ---    ---    ---  \n2                ---    ---    ---  \n3                ---    ---    ---  \n4                ---    ---    ---  \n..               ...    ...    ...  \n430              ---    ---    ---  \n431              ---    ---    ---  \n432              ---    ---    ---  \n433              ---    ---    ---  \n434              ---    ---    ---  \n\n[435 rows x 8 columns]",
      "text/html": "<div>\n<style scoped>\n    .dataframe tbody tr th:only-of-type {\n        vertical-align: middle;\n    }\n\n    .dataframe tbody tr th {\n        vertical-align: top;\n    }\n\n    .dataframe thead th {\n        text-align: right;\n    }\n</style>\n<table border=\"1\" class=\"dataframe\">\n  <thead>\n    <tr style=\"text-align: right;\">\n      <th></th>\n      <th>DATA ENTRADA</th>\n      <th>ENTRADA</th>\n      <th>DATA SAÍDA</th>\n      <th>SAÍDA</th>\n      <th>TRABALHADA</th>\n      <th>HORA JUSTIFICADA</th>\n      <th>STATUS</th>\n      <th>EDITAR</th>\n    </tr>\n  </thead>\n  <tbody>\n    <tr>\n      <th>0</th>\n      <td>01/1/2022 - Sábado</td>\n      <td>---</td>\n      <td>01/1/2022 - Sábado</td>\n      <td>---</td>\n      <td>---</td>\n      <td>---</td>\n      <td>---</td>\n      <td>---</td>\n    </tr>\n    <tr>\n      <th>1</th>\n      <td>02/1/2022 - Domingo</td>\n      <td>---</td>\n      <td>02/1/2022 - Domingo</td>\n      <td>---</td>\n      <td>---</td>\n      <td>---</td>\n      <td>---</td>\n      <td>---</td>\n    </tr>\n    <tr>\n      <th>2</th>\n      <td>03/1/2022 - Segunda</td>\n      <td>06:16:00</td>\n      <td>03/01/2022 - Segunda</td>\n      <td>18:32:00</td>\n      <td>12:16:00</td>\n      <td>---</td>\n      <td>---</td>\n      <td>---</td>\n    </tr>\n    <tr>\n      <th>3</th>\n      <td>03/1/2022 - Segunda</td>\n      <td>18:32:00</td>\n      <td>04/01/2022 - Terça</td>\n      <td>06:04:00</td>\n      <td>11:32:00</td>\n      <td>---</td>\n      <td>---</td>\n      <td>---</td>\n    </tr>\n    <tr>\n      <th>4</th>\n      <td>04/1/2022 - Terça</td>\n      <td>---</td>\n      <td>04/1/2022 - Terça</td>\n      <td>---</td>\n      <td>---</td>\n      <td>---</td>\n      <td>---</td>\n      <td>---</td>\n    </tr>\n    <tr>\n      <th>...</th>\n      <td>...</td>\n      <td>...</td>\n      <td>...</td>\n      <td>...</td>\n      <td>...</td>\n      <td>...</td>\n      <td>...</td>\n      <td>...</td>\n    </tr>\n    <tr>\n      <th>430</th>\n      <td>27/12/2022 - Terça</td>\n      <td>---</td>\n      <td>27/12/2022 - Terça</td>\n      <td>---</td>\n      <td>---</td>\n      <td>---</td>\n      <td>---</td>\n      <td>---</td>\n    </tr>\n    <tr>\n      <th>431</th>\n      <td>28/12/2022 - Quarta</td>\n      <td>---</td>\n      <td>28/12/2022 - Quarta</td>\n      <td>---</td>\n      <td>---</td>\n      <td>---</td>\n      <td>---</td>\n      <td>---</td>\n    </tr>\n    <tr>\n      <th>432</th>\n      <td>29/12/2022 - Quinta</td>\n      <td>---</td>\n      <td>29/12/2022 - Quinta</td>\n      <td>---</td>\n      <td>---</td>\n      <td>---</td>\n      <td>---</td>\n      <td>---</td>\n    </tr>\n    <tr>\n      <th>433</th>\n      <td>30/12/2022 - Sexta</td>\n      <td>---</td>\n      <td>30/12/2022 - Sexta</td>\n      <td>---</td>\n      <td>---</td>\n      <td>---</td>\n      <td>---</td>\n      <td>---</td>\n    </tr>\n    <tr>\n      <th>434</th>\n      <td>31/12/2022 - Sábado</td>\n      <td>---</td>\n      <td>31/12/2022 - Sábado</td>\n      <td>---</td>\n      <td>---</td>\n      <td>---</td>\n      <td>---</td>\n      <td>---</td>\n    </tr>\n  </tbody>\n</table>\n<p>435 rows × 8 columns</p>\n</div>"
     },
     "execution_count": 212,
     "metadata": {},
     "output_type": "execute_result"
    }
   ],
   "source": [
    "# Faz uma cópia do arquivo original e atribui a variável data\n",
    "data = year_2022.copy()\n",
    "data"
   ],
   "metadata": {
    "collapsed": false,
    "ExecuteTime": {
     "end_time": "2024-07-21T22:04:15.262568Z",
     "start_time": "2024-07-21T22:04:15.248391Z"
    }
   },
   "id": "d4cdc926dd37ddd9",
   "execution_count": 212
  },
  {
   "cell_type": "code",
   "outputs": [
    {
     "data": {
      "text/plain": "            DATA ENTRADA   ENTRADA            DATA SAÍDA     SAÍDA TRABALHADA  \\\n0     01/1/2022 - Sábado       ---    01/1/2022 - Sábado       ---        ---   \n1    02/1/2022 - Domingo       ---   02/1/2022 - Domingo       ---        ---   \n2    03/1/2022 - Segunda  06:16:00  03/01/2022 - Segunda  18:32:00   12:16:00   \n3    03/1/2022 - Segunda  18:32:00    04/01/2022 - Terça  06:04:00   11:32:00   \n4      04/1/2022 - Terça       ---     04/1/2022 - Terça       ---        ---   \n..                   ...       ...                   ...       ...        ...   \n430   27/12/2022 - Terça       ---    27/12/2022 - Terça       ---        ---   \n431  28/12/2022 - Quarta       ---   28/12/2022 - Quarta       ---        ---   \n432  29/12/2022 - Quinta       ---   29/12/2022 - Quinta       ---        ---   \n433   30/12/2022 - Sexta       ---    30/12/2022 - Sexta       ---        ---   \n434  31/12/2022 - Sábado       ---   31/12/2022 - Sábado       ---        ---   \n\n    HORA JUSTIFICADA STATUS EDITAR ESTATUS EDITAR  \n0                ---    ---    ---            NaN  \n1                ---    ---    ---            NaN  \n2                ---    ---    ---            NaN  \n3                ---    ---    ---            NaN  \n4                ---    ---    ---            NaN  \n..               ...    ...    ...            ...  \n430              ---    ---    ---            NaN  \n431              ---    ---    ---            NaN  \n432              ---    ---    ---            NaN  \n433              ---    ---    ---            NaN  \n434              ---    ---    ---            NaN  \n\n[435 rows x 9 columns]",
      "text/html": "<div>\n<style scoped>\n    .dataframe tbody tr th:only-of-type {\n        vertical-align: middle;\n    }\n\n    .dataframe tbody tr th {\n        vertical-align: top;\n    }\n\n    .dataframe thead th {\n        text-align: right;\n    }\n</style>\n<table border=\"1\" class=\"dataframe\">\n  <thead>\n    <tr style=\"text-align: right;\">\n      <th></th>\n      <th>DATA ENTRADA</th>\n      <th>ENTRADA</th>\n      <th>DATA SAÍDA</th>\n      <th>SAÍDA</th>\n      <th>TRABALHADA</th>\n      <th>HORA JUSTIFICADA</th>\n      <th>STATUS</th>\n      <th>EDITAR</th>\n      <th>ESTATUS EDITAR</th>\n    </tr>\n  </thead>\n  <tbody>\n    <tr>\n      <th>0</th>\n      <td>01/1/2022 - Sábado</td>\n      <td>---</td>\n      <td>01/1/2022 - Sábado</td>\n      <td>---</td>\n      <td>---</td>\n      <td>---</td>\n      <td>---</td>\n      <td>---</td>\n      <td>NaN</td>\n    </tr>\n    <tr>\n      <th>1</th>\n      <td>02/1/2022 - Domingo</td>\n      <td>---</td>\n      <td>02/1/2022 - Domingo</td>\n      <td>---</td>\n      <td>---</td>\n      <td>---</td>\n      <td>---</td>\n      <td>---</td>\n      <td>NaN</td>\n    </tr>\n    <tr>\n      <th>2</th>\n      <td>03/1/2022 - Segunda</td>\n      <td>06:16:00</td>\n      <td>03/01/2022 - Segunda</td>\n      <td>18:32:00</td>\n      <td>12:16:00</td>\n      <td>---</td>\n      <td>---</td>\n      <td>---</td>\n      <td>NaN</td>\n    </tr>\n    <tr>\n      <th>3</th>\n      <td>03/1/2022 - Segunda</td>\n      <td>18:32:00</td>\n      <td>04/01/2022 - Terça</td>\n      <td>06:04:00</td>\n      <td>11:32:00</td>\n      <td>---</td>\n      <td>---</td>\n      <td>---</td>\n      <td>NaN</td>\n    </tr>\n    <tr>\n      <th>4</th>\n      <td>04/1/2022 - Terça</td>\n      <td>---</td>\n      <td>04/1/2022 - Terça</td>\n      <td>---</td>\n      <td>---</td>\n      <td>---</td>\n      <td>---</td>\n      <td>---</td>\n      <td>NaN</td>\n    </tr>\n    <tr>\n      <th>...</th>\n      <td>...</td>\n      <td>...</td>\n      <td>...</td>\n      <td>...</td>\n      <td>...</td>\n      <td>...</td>\n      <td>...</td>\n      <td>...</td>\n      <td>...</td>\n    </tr>\n    <tr>\n      <th>430</th>\n      <td>27/12/2022 - Terça</td>\n      <td>---</td>\n      <td>27/12/2022 - Terça</td>\n      <td>---</td>\n      <td>---</td>\n      <td>---</td>\n      <td>---</td>\n      <td>---</td>\n      <td>NaN</td>\n    </tr>\n    <tr>\n      <th>431</th>\n      <td>28/12/2022 - Quarta</td>\n      <td>---</td>\n      <td>28/12/2022 - Quarta</td>\n      <td>---</td>\n      <td>---</td>\n      <td>---</td>\n      <td>---</td>\n      <td>---</td>\n      <td>NaN</td>\n    </tr>\n    <tr>\n      <th>432</th>\n      <td>29/12/2022 - Quinta</td>\n      <td>---</td>\n      <td>29/12/2022 - Quinta</td>\n      <td>---</td>\n      <td>---</td>\n      <td>---</td>\n      <td>---</td>\n      <td>---</td>\n      <td>NaN</td>\n    </tr>\n    <tr>\n      <th>433</th>\n      <td>30/12/2022 - Sexta</td>\n      <td>---</td>\n      <td>30/12/2022 - Sexta</td>\n      <td>---</td>\n      <td>---</td>\n      <td>---</td>\n      <td>---</td>\n      <td>---</td>\n      <td>NaN</td>\n    </tr>\n    <tr>\n      <th>434</th>\n      <td>31/12/2022 - Sábado</td>\n      <td>---</td>\n      <td>31/12/2022 - Sábado</td>\n      <td>---</td>\n      <td>---</td>\n      <td>---</td>\n      <td>---</td>\n      <td>---</td>\n      <td>NaN</td>\n    </tr>\n  </tbody>\n</table>\n<p>435 rows × 9 columns</p>\n</div>"
     },
     "execution_count": 223,
     "metadata": {},
     "output_type": "execute_result"
    }
   ],
   "source": [
    "# Atualiza a cópia do dataframe substituindo o conteúdo das colunas\n",
    "# DATA SAÍDA, SAÍDA, TRABALHADA, HORA JUSTIFICADA e STATUS para uma string '---'\n",
    "# nas linhas onde a coluna DATA ENTRADA tem a palavra JUSTIFICATIVA\n",
    "data.loc[data['DATA ENTRADA'].str.contains('JUSTIFICATIVA') | data['DATA ENTRADA'].str.contains('AVISO'), \n",
    "['DATA SAÍDA', 'SAÍDA', 'TRABALHADA', 'HORA JUSTIFICADA', 'STATUS']] = '---'\n",
    "data"
   ],
   "metadata": {
    "collapsed": false,
    "ExecuteTime": {
     "end_time": "2024-07-21T22:50:01.203322Z",
     "start_time": "2024-07-21T22:50:01.189705Z"
    }
   },
   "id": "f9f0c53f8961b945",
   "execution_count": 223
  },
  {
   "cell_type": "code",
   "outputs": [
    {
     "data": {
      "text/plain": "            DATA ENTRADA                                            ENTRADA  \\\n2    03/1/2022 - Segunda                                           06:16:00   \n3    03/1/2022 - Segunda                                           18:32:00   \n9    09/1/2022 - Domingo                                           06:14:00   \n13    13/1/2022 - Quinta                                           19:06:00   \n21     21/1/2022 - Sexta                                           00:00:00   \n..                   ...                                                ...   \n414        JUSTIFICATIVA  13-12-2022 14:23:48 Plantão de 24 horas, batid...   \n416   13/12/2022 - Terça                                           19:01:00   \n417  14/12/2022 - Quarta                                           06:25:00   \n420  17/12/2022 - Sábado                                           18:36:00   \n424  21/12/2022 - Quarta                                           18:05:00   \n\n               DATA SAÍDA     SAÍDA TRABALHADA HORA JUSTIFICADA    STATUS  \\\n2    03/01/2022 - Segunda  18:32:00   12:16:00              ---       ---   \n3      04/01/2022 - Terça  06:04:00   11:32:00              ---       ---   \n9    09/01/2022 - Domingo  18:38:00   12:24:00              ---       ---   \n13     14/01/2022 - Sexta  06:50:00   11:44:00              ---       ---   \n21     21/01/2022 - Sexta  00:00:00        ---         00:00:00  APROVADO   \n..                    ...       ...        ...              ...       ...   \n414                   ---       ---        ---              ---       ---   \n416   14/12/2022 - Quarta  06:25:00   11:24:00              ---       ---   \n417   14/12/2022 - Quarta  18:30:00   12:05:00              ---       ---   \n420  18/12/2022 - Domingo  06:31:00   11:55:00              ---       ---   \n424   22/12/2022 - Quinta  06:32:00   12:27:00              ---       ---   \n\n    EDITAR ESTATUS EDITAR  \n2      ---            NaN  \n3      ---            NaN  \n9      ---            NaN  \n13     ---            NaN  \n21     Ver            NaN  \n..     ...            ...  \n414    NaN            ---  \n416    ---            NaN  \n417    ---            NaN  \n420    ---            NaN  \n424    ---            NaN  \n\n[126 rows x 9 columns]",
      "text/html": "<div>\n<style scoped>\n    .dataframe tbody tr th:only-of-type {\n        vertical-align: middle;\n    }\n\n    .dataframe tbody tr th {\n        vertical-align: top;\n    }\n\n    .dataframe thead th {\n        text-align: right;\n    }\n</style>\n<table border=\"1\" class=\"dataframe\">\n  <thead>\n    <tr style=\"text-align: right;\">\n      <th></th>\n      <th>DATA ENTRADA</th>\n      <th>ENTRADA</th>\n      <th>DATA SAÍDA</th>\n      <th>SAÍDA</th>\n      <th>TRABALHADA</th>\n      <th>HORA JUSTIFICADA</th>\n      <th>STATUS</th>\n      <th>EDITAR</th>\n      <th>ESTATUS EDITAR</th>\n    </tr>\n  </thead>\n  <tbody>\n    <tr>\n      <th>2</th>\n      <td>03/1/2022 - Segunda</td>\n      <td>06:16:00</td>\n      <td>03/01/2022 - Segunda</td>\n      <td>18:32:00</td>\n      <td>12:16:00</td>\n      <td>---</td>\n      <td>---</td>\n      <td>---</td>\n      <td>NaN</td>\n    </tr>\n    <tr>\n      <th>3</th>\n      <td>03/1/2022 - Segunda</td>\n      <td>18:32:00</td>\n      <td>04/01/2022 - Terça</td>\n      <td>06:04:00</td>\n      <td>11:32:00</td>\n      <td>---</td>\n      <td>---</td>\n      <td>---</td>\n      <td>NaN</td>\n    </tr>\n    <tr>\n      <th>9</th>\n      <td>09/1/2022 - Domingo</td>\n      <td>06:14:00</td>\n      <td>09/01/2022 - Domingo</td>\n      <td>18:38:00</td>\n      <td>12:24:00</td>\n      <td>---</td>\n      <td>---</td>\n      <td>---</td>\n      <td>NaN</td>\n    </tr>\n    <tr>\n      <th>13</th>\n      <td>13/1/2022 - Quinta</td>\n      <td>19:06:00</td>\n      <td>14/01/2022 - Sexta</td>\n      <td>06:50:00</td>\n      <td>11:44:00</td>\n      <td>---</td>\n      <td>---</td>\n      <td>---</td>\n      <td>NaN</td>\n    </tr>\n    <tr>\n      <th>21</th>\n      <td>21/1/2022 - Sexta</td>\n      <td>00:00:00</td>\n      <td>21/01/2022 - Sexta</td>\n      <td>00:00:00</td>\n      <td>---</td>\n      <td>00:00:00</td>\n      <td>APROVADO</td>\n      <td>Ver</td>\n      <td>NaN</td>\n    </tr>\n    <tr>\n      <th>...</th>\n      <td>...</td>\n      <td>...</td>\n      <td>...</td>\n      <td>...</td>\n      <td>...</td>\n      <td>...</td>\n      <td>...</td>\n      <td>...</td>\n      <td>...</td>\n    </tr>\n    <tr>\n      <th>414</th>\n      <td>JUSTIFICATIVA</td>\n      <td>13-12-2022 14:23:48 Plantão de 24 horas, batid...</td>\n      <td>---</td>\n      <td>---</td>\n      <td>---</td>\n      <td>---</td>\n      <td>---</td>\n      <td>NaN</td>\n      <td>---</td>\n    </tr>\n    <tr>\n      <th>416</th>\n      <td>13/12/2022 - Terça</td>\n      <td>19:01:00</td>\n      <td>14/12/2022 - Quarta</td>\n      <td>06:25:00</td>\n      <td>11:24:00</td>\n      <td>---</td>\n      <td>---</td>\n      <td>---</td>\n      <td>NaN</td>\n    </tr>\n    <tr>\n      <th>417</th>\n      <td>14/12/2022 - Quarta</td>\n      <td>06:25:00</td>\n      <td>14/12/2022 - Quarta</td>\n      <td>18:30:00</td>\n      <td>12:05:00</td>\n      <td>---</td>\n      <td>---</td>\n      <td>---</td>\n      <td>NaN</td>\n    </tr>\n    <tr>\n      <th>420</th>\n      <td>17/12/2022 - Sábado</td>\n      <td>18:36:00</td>\n      <td>18/12/2022 - Domingo</td>\n      <td>06:31:00</td>\n      <td>11:55:00</td>\n      <td>---</td>\n      <td>---</td>\n      <td>---</td>\n      <td>NaN</td>\n    </tr>\n    <tr>\n      <th>424</th>\n      <td>21/12/2022 - Quarta</td>\n      <td>18:05:00</td>\n      <td>22/12/2022 - Quinta</td>\n      <td>06:32:00</td>\n      <td>12:27:00</td>\n      <td>---</td>\n      <td>---</td>\n      <td>---</td>\n      <td>NaN</td>\n    </tr>\n  </tbody>\n</table>\n<p>126 rows × 9 columns</p>\n</div>"
     },
     "execution_count": 224,
     "metadata": {},
     "output_type": "execute_result"
    }
   ],
   "source": [
    "# Finaliza a limpeza dos dados criando um dataframe com o seguintes critérios:\n",
    "# 1 - Colunas TRABALHADA e HORA JUSTIFICADA difentes de '---'\n",
    "# 2 - Colunas STATUS igual 'APROVADO' e DATA ENTRADA igual a 'JUSTIFICATIVA'\n",
    "final_data = data[\n",
    "    (data['TRABALHADA'] != '---') | (data['HORA JUSTIFICADA'] != '---') \n",
    "    |(data['STATUS'] == 'APROVADO')\n",
    "    |(data['DATA ENTRADA'] == 'JUSTIFICATIVA')\n",
    "]\n",
    "\n",
    "final_data"
   ],
   "metadata": {
    "collapsed": false,
    "ExecuteTime": {
     "end_time": "2024-07-21T22:53:51.882258Z",
     "start_time": "2024-07-21T22:53:51.868877Z"
    }
   },
   "id": "4552c5e4288194bf",
   "execution_count": 224
  },
  {
   "cell_type": "code",
   "outputs": [],
   "source": [
    "# Gera o arquivo no formato excel.\n",
    "final_data.to_excel('Dados finais.xlsx', index=False)"
   ],
   "metadata": {
    "collapsed": false,
    "ExecuteTime": {
     "end_time": "2024-07-21T22:55:23.251143Z",
     "start_time": "2024-07-21T22:55:23.208117Z"
    }
   },
   "id": "a0b79b6a02391ae1",
   "execution_count": 225
  },
  {
   "cell_type": "code",
   "outputs": [],
   "source": [],
   "metadata": {
    "collapsed": false
   },
   "id": "c19b7f8baf6465ab"
  }
 ],
 "metadata": {
  "kernelspec": {
   "display_name": "Python 3",
   "language": "python",
   "name": "python3"
  },
  "language_info": {
   "codemirror_mode": {
    "name": "ipython",
    "version": 2
   },
   "file_extension": ".py",
   "mimetype": "text/x-python",
   "name": "python",
   "nbconvert_exporter": "python",
   "pygments_lexer": "ipython2",
   "version": "2.7.6"
  }
 },
 "nbformat": 4,
 "nbformat_minor": 5
}
